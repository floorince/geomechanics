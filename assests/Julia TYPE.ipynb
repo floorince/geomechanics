{
 "cells": [
  {
   "cell_type": "markdown",
   "metadata": {},
   "source": [
    "# TYPE IN JULIA\n",
    "\n",
    "**Julia support many kinds of data**\n",
    "- 1234, 3.1416, \"hello\", [1, 2, 4, 5]\n",
    "- (1 => ”one”, 2 => “two”)\n",
    "\n",
    "**Each is an object, each object has:**\n",
    "- a type\n",
    "- an internal data representation\n",
    "- a set of procedure for interation with the object\n",
    "\n",
    "**An object is an instance of a type**\n",
    "- 1234 is an instance of *Int64*\n",
    "- \"abs\" is an instance of *String*"
   ]
  },
  {
   "cell_type": "markdown",
   "metadata": {},
   "source": [
    "# OPERATION ON TYPE"
   ]
  },
  {
   "cell_type": "code",
   "execution_count": null,
   "metadata": {},
   "outputs": [],
   "source": [
    "# \"isa\" function tests if an object is of a given type and returns true or false\n",
    "isa(1, Int)"
   ]
  },
  {
   "cell_type": "code",
   "execution_count": null,
   "metadata": {},
   "outputs": [],
   "source": [
    "isa(1, AbstractFloat)"
   ]
  },
  {
   "cell_type": "code",
   "execution_count": null,
   "metadata": {},
   "outputs": [],
   "source": [
    "typeof(12.0)"
   ]
  },
  {
   "cell_type": "code",
   "execution_count": null,
   "metadata": {},
   "outputs": [],
   "source": [
    "supertype(Float64)"
   ]
  },
  {
   "cell_type": "code",
   "execution_count": null,
   "metadata": {},
   "outputs": [],
   "source": [
    "supertype(Int8)"
   ]
  },
  {
   "cell_type": "code",
   "execution_count": null,
   "metadata": {},
   "outputs": [],
   "source": [
    "supertype(ans)"
   ]
  },
  {
   "cell_type": "code",
   "execution_count": null,
   "metadata": {},
   "outputs": [],
   "source": [
    "subtypes(Real)"
   ]
  },
  {
   "cell_type": "markdown",
   "metadata": {},
   "source": [
    "# CREATING AND USING YOUR OWN TYPES\n",
    "Make a distinction between creating a class and using an instance of the class \n",
    "\n",
    "**Creating a type involves**\n",
    "  * Defining the type name\n",
    "  * Defining the type attributes\n",
    "  * For example: someone wrote code to implement list\n",
    "\n",
    "**Using a type involes:**\n",
    "  * Creating new instances of objects\n",
    "  * Doing operations on instances\n",
    "  * For example: L = [1, 2], and len(L)"
   ]
  },
  {
   "cell_type": "markdown",
   "metadata": {},
   "source": [
    "# COMPOSITE TYPES"
   ]
  },
  {
   "cell_type": "markdown",
   "metadata": {},
   "source": [
    "Composite types is a collection of named fields. They are user-defined type in Julia. There are two composite types: mutable one (*mutable struct*) and immutable one (*immutable struct*)\n",
    "\n",
    "**Type declaration:**\n",
    "\n",
    "Immutable composite types are introduced with the \"struct\" keyword followed by a block of field names"
   ]
  },
  {
   "cell_type": "markdown",
   "metadata": {},
   "source": [
    "## 1- First example of type in JULIA: Point2D"
   ]
  },
  {
   "cell_type": "code",
   "execution_count": null,
   "metadata": {},
   "outputs": [],
   "source": [
    "# Name of type: Point2D\n",
    "# Atributes of type Vector2D: x, y (coordinaes)\n",
    "\n",
    "struct Point2D\n",
    "    x::Float64\n",
    "    y::Float64\n",
    "end"
   ]
  },
  {
   "cell_type": "markdown",
   "metadata": {},
   "source": [
    "Data attributes: \n",
    "- Think of data as other objects that make up the type\n",
    "- For example, Point2D is made up of 2 numbers"
   ]
  },
  {
   "cell_type": "markdown",
   "metadata": {},
   "source": [
    "**1.1 Create an object of type Point2D:**\n",
    "By applying the \"Point2D\" type object like a function to values for its fields: "
   ]
  },
  {
   "cell_type": "code",
   "execution_count": null,
   "metadata": {},
   "outputs": [],
   "source": [
    "P = Point2D(2.0, 5.0)"
   ]
  },
  {
   "cell_type": "code",
   "execution_count": null,
   "metadata": {},
   "outputs": [],
   "source": [
    "Q = Point2D(3.0, 5.0)"
   ]
  },
  {
   "cell_type": "markdown",
   "metadata": {},
   "source": [
    "You may find a list of field names using the \"fieldnames\" function"
   ]
  },
  {
   "cell_type": "code",
   "execution_count": null,
   "metadata": {},
   "outputs": [],
   "source": [
    "fieldnames(Q)"
   ]
  },
  {
   "cell_type": "markdown",
   "metadata": {},
   "source": [
    "**1.2 Access atribute of a type**"
   ]
  },
  {
   "cell_type": "code",
   "execution_count": null,
   "metadata": {},
   "outputs": [],
   "source": [
    "# x coordinate of Point P\n",
    "@show P.x\n",
    "# y coordinate of Point P\n",
    "@show P.y"
   ]
  },
  {
   "cell_type": "markdown",
   "metadata": {},
   "source": [
    "Method: a special function (take params, do operations, return) that work with a specific type"
   ]
  },
  {
   "cell_type": "markdown",
   "metadata": {},
   "source": [
    "In Julia, all vallues are objects, but functions are not bundled with the objects they operate on.\n",
    "This is necessary since Julia chooses which method of a function to use by multiple dispatch, meaning that the types of all of a function's arguments are considered when selecting a method. Organizing methods into function objects rather than having named bags of methods \"inside\" each object ends up being a highly beneficial aspect of the language design"
   ]
  },
  {
   "cell_type": "code",
   "execution_count": null,
   "metadata": {},
   "outputs": [],
   "source": [
    "# Example:\n",
    "function f1(x::Int64)\n",
    "    return x\n",
    "end\n",
    "\n",
    "function f1(x::Float64)\n",
    "    return x + 1\n",
    "end\n",
    "\n",
    "@show f1(2)\n",
    "@show f1(2.0)"
   ]
  },
  {
   "cell_type": "markdown",
   "metadata": {},
   "source": [
    "**1.3 How to calculate distance from Point P to point Q?**"
   ]
  },
  {
   "cell_type": "code",
   "execution_count": null,
   "metadata": {},
   "outputs": [],
   "source": [
    "function distance(P::Point2D, Q::Point2D)\n",
    "    return √((P.x - Q.x)^2 + (P.y - Q.y)^2)\n",
    "end"
   ]
  },
  {
   "cell_type": "code",
   "execution_count": null,
   "metadata": {},
   "outputs": [],
   "source": [
    "@show distance(P, Q)"
   ]
  },
  {
   "cell_type": "markdown",
   "metadata": {},
   "source": [
    "**1.4 How to calculate the summation, substraction of 2 vector P and Q?**"
   ]
  },
  {
   "cell_type": "code",
   "execution_count": null,
   "metadata": {},
   "outputs": [],
   "source": [
    "# P + Q = ?\n",
    "@show P + Q"
   ]
  },
  {
   "cell_type": "code",
   "execution_count": null,
   "metadata": {},
   "outputs": [],
   "source": [
    "@which 1.0 + 1.0"
   ]
  },
  {
   "cell_type": "markdown",
   "metadata": {},
   "source": [
    "## SPECIAL OPERATOR: \n",
    "- Special operator: +, - , ==, * , /, ....\n",
    "- we can override these to work with our type\n",
    "\n",
    "**1.5 Create the calculation of sum of 2 Poin2D**"
   ]
  },
  {
   "cell_type": "code",
   "execution_count": null,
   "metadata": {},
   "outputs": [],
   "source": [
    "import Base.+\n",
    "function +(A::Point2D, B::Point2D)\n",
    "    return Point2D(A.x + B.x, A.y + B.y)\n",
    "end"
   ]
  },
  {
   "cell_type": "code",
   "execution_count": null,
   "metadata": {},
   "outputs": [],
   "source": [
    "P + Q"
   ]
  },
  {
   "cell_type": "code",
   "execution_count": null,
   "metadata": {},
   "outputs": [],
   "source": [
    "# We can also write in this compact form:\n",
    "+(A::Point2D, B::Point2D) = Point2D(A.x + B.x, A.y + B.y)"
   ]
  },
  {
   "cell_type": "code",
   "execution_count": null,
   "metadata": {},
   "outputs": [],
   "source": [
    "# Similarly, we can create a substraction of two vector:\n",
    "import Base.-\n",
    "-(A::Point2D, B::Point2D) = Point2D(A.x - B.x, A.y - B.y)"
   ]
  },
  {
   "cell_type": "code",
   "execution_count": null,
   "metadata": {},
   "outputs": [],
   "source": [
    "P - Q"
   ]
  },
  {
   "cell_type": "code",
   "execution_count": null,
   "metadata": {},
   "outputs": [],
   "source": [
    "# How to compare 2 Vector?\n",
    "P == Q"
   ]
  },
  {
   "cell_type": "code",
   "execution_count": null,
   "metadata": {},
   "outputs": [],
   "source": [
    "1 == 1"
   ]
  },
  {
   "cell_type": "code",
   "execution_count": null,
   "metadata": {},
   "outputs": [],
   "source": [
    "@which 1 == 1"
   ]
  },
  {
   "cell_type": "code",
   "execution_count": null,
   "metadata": {},
   "outputs": [],
   "source": [
    "import Base.==\n",
    "function ==(A::Point2D, B::Point2D)\n",
    "    if A.x == B.x && A.y == B.y\n",
    "        return true\n",
    "    else\n",
    "        return false\n",
    "    end\n",
    "end"
   ]
  },
  {
   "cell_type": "code",
   "execution_count": null,
   "metadata": {},
   "outputs": [],
   "source": [
    "P == Q"
   ]
  },
  {
   "cell_type": "code",
   "execution_count": null,
   "metadata": {},
   "outputs": [],
   "source": [
    "P.x = 10"
   ]
  },
  {
   "cell_type": "markdown",
   "metadata": {},
   "source": [
    "# EXERCISE\n",
    "- Create a type **Rectangular**, with its attributes \n",
    "- Write methods (function) to calculate its perimeters, areas\n",
    "- Check your type declaration by using Rectangular1(width = 2, length = 10), Rectangular2(width = 4, lenght = 5)\n",
    "- Write methods to compare whether 2 Rectangular is equal or not by assumpsing that 2 rectangulars are equal if their area are equal"
   ]
  },
  {
   "cell_type": "markdown",
   "metadata": {},
   "source": [
    "# 2- Second example of Julia TYPE: RATIONAL, outer constructor"
   ]
  },
  {
   "cell_type": "code",
   "execution_count": null,
   "metadata": {},
   "outputs": [],
   "source": [
    "type Rational\n",
    "    numerator::Int64\n",
    "    denominator::Int64\n",
    "end\n"
   ]
  },
  {
   "cell_type": "code",
   "execution_count": null,
   "metadata": {},
   "outputs": [],
   "source": [
    "a = Rational(1,2)"
   ]
  },
  {
   "cell_type": "code",
   "execution_count": null,
   "metadata": {},
   "outputs": [],
   "source": [
    "function Base.show(io::IO, r::Rational)\n",
    "    println(io, r.numerator, \"/\", r.denominator)\n",
    "end "
   ]
  },
  {
   "cell_type": "code",
   "execution_count": null,
   "metadata": {},
   "outputs": [],
   "source": [
    "a"
   ]
  },
  {
   "cell_type": "code",
   "execution_count": null,
   "metadata": {},
   "outputs": [],
   "source": [
    "b = Rational(1, 3)"
   ]
  },
  {
   "cell_type": "code",
   "execution_count": null,
   "metadata": {},
   "outputs": [],
   "source": [
    "a + b"
   ]
  },
  {
   "cell_type": "markdown",
   "metadata": {},
   "source": [
    "SPECIAL OPERATOR: \n",
    "\n",
    "- Special operator: +, - , ==, * , / ....\n",
    "- Like print, we can override these to work with our type"
   ]
  },
  {
   "cell_type": "code",
   "execution_count": null,
   "metadata": {},
   "outputs": [],
   "source": [
    "import Base.+\n",
    "\"Add two rational number\"\n",
    "function +(a::Rational, b::Rational)\n",
    "    new_numerator = a.numerator * b.denominator + a.denominator * b.numerator\n",
    "    new_denominator = a.denominator * b.denominator\n",
    "    return Rational(new_numerator, new_denominator)\n",
    "end "
   ]
  },
  {
   "cell_type": "code",
   "execution_count": null,
   "metadata": {},
   "outputs": [],
   "source": [
    "a + b"
   ]
  },
  {
   "cell_type": "code",
   "execution_count": null,
   "metadata": {},
   "outputs": [],
   "source": [
    "# similarly\n",
    "import Base.-, Base.*, Base./\n",
    "\n",
    "# Minus two rational number\n",
    "function -(a::Rational, b::Rational)\n",
    "    new_numerator = a.numerator * b.denominator - a.denominator * b.numerator\n",
    "    new_denominator = a.denominator * b.denominator\n",
    "    return Rational(new_numerator, new_denominator)\n",
    "end \n",
    "\n",
    "\n",
    "# Multiply two rational number\n",
    "function *(a::Rational, b::Rational)\n",
    "    new_numerator = a.numerator * b.numerator\n",
    "    new_denominator = a.denominator * b.denominator\n",
    "    return Rational(new_numerator, new_denominator)\n",
    "end \n",
    "\n",
    "\n",
    "# Divide two rational number#\n",
    "function /(a::Rational, b::Rational)\n",
    "    new_numerator = a.numerator * b.denominator \n",
    "    new_denominator = a.denominator * b.numerator\n",
    "    return Rational(new_numerator, new_denominator)\n",
    "end \n"
   ]
  },
  {
   "cell_type": "code",
   "execution_count": null,
   "metadata": {},
   "outputs": [],
   "source": [
    "a - b"
   ]
  },
  {
   "cell_type": "code",
   "execution_count": null,
   "metadata": {},
   "outputs": [],
   "source": [
    "a * b"
   ]
  },
  {
   "cell_type": "code",
   "execution_count": null,
   "metadata": {},
   "outputs": [],
   "source": [
    "a / b"
   ]
  },
  {
   "cell_type": "code",
   "execution_count": null,
   "metadata": {},
   "outputs": [],
   "source": [
    "# Now what if\n",
    "c = Rational(2,6)"
   ]
  },
  {
   "cell_type": "markdown",
   "metadata": {},
   "source": [
    "This is not a good way to represent c, we would like to simplify c into c = 1/3. How to do that?"
   ]
  },
  {
   "cell_type": "code",
   "execution_count": null,
   "metadata": {},
   "outputs": [],
   "source": [
    "\n",
    "# Outer constructor\n",
    "function Rational(numerator::Int64, denominator::Int64)\n",
    "    divisor = gcd(numerator, denominator) # greatest common divisor\n",
    "    numerator /= divisor\n",
    "    denominator /= divisor\n",
    "    return Rational(numerator, denominator)\n",
    "end"
   ]
  },
  {
   "cell_type": "code",
   "execution_count": null,
   "metadata": {},
   "outputs": [],
   "source": [
    "# example of \"gcd\" function:\n",
    "gcd(3,9)"
   ]
  },
  {
   "cell_type": "code",
   "execution_count": null,
   "metadata": {},
   "outputs": [],
   "source": [
    "c = Rational(2,6)"
   ]
  },
  {
   "cell_type": "code",
   "execution_count": null,
   "metadata": {},
   "outputs": [],
   "source": [
    "a = Rational(2,0)"
   ]
  },
  {
   "cell_type": "markdown",
   "metadata": {},
   "source": [
    "2.1 Show on the screen\n",
    "- Julia use Base.show method when prining out your object\n",
    "- You can choose what it does! For instance, when we print a Rational object of 1/2, we want to show: \"1/2\""
   ]
  },
  {
   "cell_type": "code",
   "execution_count": null,
   "metadata": {},
   "outputs": [],
   "source": [
    "function Base.show(io::IO, r::Rational)\n",
    "    println(io, r.numerator, \"/\", r.denominator)\n",
    "end "
   ]
  },
  {
   "cell_type": "code",
   "execution_count": null,
   "metadata": {},
   "outputs": [],
   "source": [
    "a = Rational(3,6)"
   ]
  },
  {
   "cell_type": "code",
   "execution_count": null,
   "metadata": {},
   "outputs": [],
   "source": [
    "b = Rational(3,6)"
   ]
  },
  {
   "cell_type": "code",
   "execution_count": null,
   "metadata": {},
   "outputs": [],
   "source": [
    "@show a + b\n",
    "@show a - b\n",
    "@show a * b\n",
    "@show a / b"
   ]
  },
  {
   "cell_type": "markdown",
   "metadata": {},
   "source": [
    " We now would like to represent 1/1 as 1, and 0/1 as 0 when they are printed on the sceen. How to do that?"
   ]
  },
  {
   "cell_type": "code",
   "execution_count": null,
   "metadata": {},
   "outputs": [],
   "source": [
    "# Modified how the rational type is shown on the screen\n",
    "function Base.show(io::IO, r::Rational)\n",
    "    if r.numerator == 0\n",
    "        println(io, 0)\n",
    "    elseif r.denominator == 1\n",
    "        println(io, r.numerator)\n",
    "    else     \n",
    "        println(io, r.numerator, \"/\", r.denominator)\n",
    "    end\n",
    "end"
   ]
  },
  {
   "cell_type": "code",
   "execution_count": null,
   "metadata": {},
   "outputs": [],
   "source": [
    "@show a + b\n",
    "@show a - b\n",
    "@show a * b\n",
    "@show a / b"
   ]
  },
  {
   "cell_type": "markdown",
   "metadata": {},
   "source": [
    "Another problem occurs when the denominator is **0**"
   ]
  },
  {
   "cell_type": "code",
   "execution_count": null,
   "metadata": {},
   "outputs": [],
   "source": [
    "Rational(2, 0)"
   ]
  },
  {
   "cell_type": "markdown",
   "metadata": {},
   "source": [
    "We want to prevent user to input a rational with a denominator of **0**. Inner constructor can help us do that"
   ]
  },
  {
   "cell_type": "markdown",
   "metadata": {},
   "source": [
    "# 3- Example of INNER CONSTRUCTOR"
   ]
  },
  {
   "cell_type": "code",
   "execution_count": null,
   "metadata": {},
   "outputs": [],
   "source": [
    "# Inner Constructor: Can check the condition of input parameter\"\"\"\n",
    "type Rational2 \n",
    "    numerator::Int64\n",
    "    denominator::Int64\n",
    "\n",
    "    function Rational2(numerator::Int64, denominator::Int64)\n",
    "        denominator == 0 && throw(ArgumentError(\"Invalid Rational: Denominator = 0!\"))\n",
    "        divisor = gcd(numerator, denominator)\n",
    "        numerator /= divisor\n",
    "        denominator /= divisor\n",
    "        new(numerator, denominator)\n",
    "    end\n",
    "end"
   ]
  },
  {
   "cell_type": "code",
   "execution_count": null,
   "metadata": {},
   "outputs": [],
   "source": [
    "c = Rational(1, 0)"
   ]
  },
  {
   "cell_type": "code",
   "execution_count": null,
   "metadata": {},
   "outputs": [],
   "source": [
    "d = Rational2(1, 0)"
   ]
  },
  {
   "cell_type": "markdown",
   "metadata": {},
   "source": [
    "# 4- Example of TYPE UNION"
   ]
  },
  {
   "cell_type": "code",
   "execution_count": null,
   "metadata": {},
   "outputs": [],
   "source": [
    "type Point\n",
    "    x::Float64\n",
    "    y::Float64\n",
    "end \n",
    "\n",
    "type Vec \n",
    "    x::Float64\n",
    "    y::Float64\n",
    "end \n",
    "\n",
    "# Similarities\n",
    "ndims(v::Point)   = 2\n",
    "ndims(v::Vec)     = 2\n",
    "\n",
    "eltype(v::Point)  = Float64\n",
    "eltype(v::Vec)    = Float64\n"
   ]
  },
  {
   "cell_type": "markdown",
   "metadata": {},
   "source": [
    "How to reduce repeatation? Use UNION type"
   ]
  },
  {
   "cell_type": "code",
   "execution_count": null,
   "metadata": {},
   "outputs": [],
   "source": [
    "# declare UNION type\n",
    "VecOrPoint = Union{Vec, Point}\n",
    "\n",
    "# now, use UNION type to reduce repeation\n",
    "ndims(v::VecOrPoint)  = 2\n",
    "eltype(v::VecOrPoint) = 1"
   ]
  },
  {
   "cell_type": "markdown",
   "metadata": {},
   "source": [
    "# 5- ABSTRACT TYPE"
   ]
  },
  {
   "cell_type": "markdown",
   "metadata": {},
   "source": [
    "Example: Recall a variety of concrete types of Integers: *Int8, Int16, Int32, Int64, Int128*, \n",
    "\n",
    "Abstract types allow the construction of a hirachies of types, providing a context into which concrete types can fit,\n",
    "\n",
    "Syntax:\n",
    "\n",
    "```Julia\n",
    "    abstract type <<name>> end\n",
    "    abstract type <<name>> <: <<suppertype>> end\n",
    "```\n",
    "The **abstract type** keyword introduces a new abstract type, whose name is given by **<<name>>"
   ]
  },
  {
   "cell_type": "code",
   "execution_count": null,
   "metadata": {},
   "outputs": [],
   "source": [
    "# EXAMPLE\n",
    "abstract type Shape end\n",
    "\n",
    "struct Square <: Shape\n",
    "    length::Real\n",
    "end\n",
    "\n",
    "function perimeter(s::Square)\n",
    "    return 4*s.length\n",
    "end\n",
    "\n",
    "function area(s::Square)\n",
    "    return s.length^2\n",
    "end\n",
    "\n",
    "struct Rectangular <: Shape\n",
    "    length::Real\n",
    "    width::Real\n",
    "end\n",
    "\n",
    "# which TYPE and MULTIPLE DISPATCH, we can use the same function name for different purposes\n",
    "function perimeter(s::Rectangular)\n",
    "    return 2*(s.length + s.width)\n",
    "end\n",
    "\n",
    "function area(s::Rectangular)\n",
    "    return s.length * s.width\n",
    "end\n",
    "\n",
    "# INHERITANCE EXAMPLE:\n",
    "# calculate the money which is necessary to buy paint for the area of a shape\n",
    "function money(s::Shape)\n",
    "    return area(s) * 100\n",
    "end"
   ]
  },
  {
   "cell_type": "code",
   "execution_count": null,
   "metadata": {},
   "outputs": [],
   "source": [
    "a = Square(10)"
   ]
  },
  {
   "cell_type": "code",
   "execution_count": null,
   "metadata": {},
   "outputs": [],
   "source": [
    "area(a)"
   ]
  },
  {
   "cell_type": "code",
   "execution_count": null,
   "metadata": {},
   "outputs": [],
   "source": [
    "perimeter(a)"
   ]
  },
  {
   "cell_type": "code",
   "execution_count": null,
   "metadata": {},
   "outputs": [],
   "source": [
    "money(a)"
   ]
  },
  {
   "cell_type": "code",
   "execution_count": null,
   "metadata": {},
   "outputs": [],
   "source": [
    "b = Rectangular(10,5)"
   ]
  },
  {
   "cell_type": "code",
   "execution_count": null,
   "metadata": {},
   "outputs": [],
   "source": [
    "area(b)"
   ]
  },
  {
   "cell_type": "code",
   "execution_count": null,
   "metadata": {},
   "outputs": [],
   "source": [
    "money(b)"
   ]
  },
  {
   "cell_type": "markdown",
   "metadata": {},
   "source": [
    "# 6- ANOTHER EXAMPLE OF ABSTRACT TYPE"
   ]
  },
  {
   "cell_type": "code",
   "execution_count": null,
   "metadata": {},
   "outputs": [],
   "source": [
    "# The \"AnimalType\" type is a direct child type of \"Any\"\n",
    "abstract type AnimalType end\n",
    "\n",
    "# \"PeopleType\" is a child of \"AnimalType\"\n",
    "abstract type PeopleType <: AnimalType end\n",
    "\n",
    "\n",
    "type Cat <: AnimalType\n",
    "    name::String\n",
    "    age::Int64\n",
    "end\n",
    "\n",
    "type Engineer <: PeopleType\n",
    "    name::String\n",
    "    age::Int64\n",
    "end  \n",
    "\n",
    "type Student <: PeopleType\n",
    "    name::String\n",
    "    age::String\n",
    "    major::String\n",
    "end\n",
    "\n",
    "function get_age(s::AnimalType)\n",
    "   return s.age\n",
    "end\n",
    "\n",
    "function get_name(s::AnimalType)\n",
    "    return s.name\n",
    "end\n",
    "\n",
    "function Base.show(io::IO, r::AnimalType)\n",
    "    println(io, typeof(r) , \": \", r.name, \" , age : \", r.age)\n",
    "end\n",
    "\n",
    "function speak(s::PeopleType)\n",
    "    println(\"Hello\")\n",
    "end\n",
    "\n",
    "function speak(s::Cat)\n",
    "    println(\"Meo Meo\")\n",
    "end\n",
    "\n"
   ]
  },
  {
   "cell_type": "code",
   "execution_count": null,
   "metadata": {},
   "outputs": [],
   "source": [
    "An = Engineer(\"Gia An\", 1)"
   ]
  },
  {
   "cell_type": "code",
   "execution_count": null,
   "metadata": {},
   "outputs": [],
   "source": [
    "get_age(An)"
   ]
  },
  {
   "cell_type": "code",
   "execution_count": null,
   "metadata": {},
   "outputs": [],
   "source": [
    "a = Cat(\"Mimeo\", 13)"
   ]
  },
  {
   "cell_type": "code",
   "execution_count": null,
   "metadata": {},
   "outputs": [],
   "source": [
    "a(Val{:getName})"
   ]
  },
  {
   "cell_type": "markdown",
   "metadata": {},
   "source": [
    "# 7- TYPE ALIASES\n",
    "\n",
    "Sometimes it is convenient to introduce a new name for an already expressible type. For such occasions, Julia provides the \"typealias\" mechanism"
   ]
  },
  {
   "cell_type": "code",
   "execution_count": null,
   "metadata": {},
   "outputs": [],
   "source": [
    "# Example 1: Dictionary type\n",
    "params = Dict(\n",
    "            \"lambda\" => 1.2,\n",
    "             \"kappa\" => 1.0)"
   ]
  },
  {
   "cell_type": "code",
   "execution_count": null,
   "metadata": {},
   "outputs": [],
   "source": [
    "const Parameters = Dict{String, Float64}"
   ]
  },
  {
   "cell_type": "code",
   "execution_count": null,
   "metadata": {},
   "outputs": [],
   "source": [
    "params2 = Parameters(\n",
    "            \"lambda\" => 1.2,\n",
    "            \"kappa\"  => 1.0)"
   ]
  },
  {
   "cell_type": "markdown",
   "metadata": {},
   "source": [
    "For parameteric types, typealias can be convenient for providing names for cases where some of the parameter choices are fixed"
   ]
  },
  {
   "cell_type": "code",
   "execution_count": null,
   "metadata": {},
   "outputs": [],
   "source": [
    "abstract type CamClayType end\n",
    "abstract type Original end\n",
    "abstract type Modified end\n",
    "abstract type Variation end\n",
    "\n",
    "const Parameters = Dict{String, Float64}\n",
    "const InitConds = Dict{String, Float64}\n",
    "\n",
    "#struct CamClay{T<:Union{Original, Modified, Variation}} \n",
    "    \n",
    "struct CamClay{T} <: CamClayType\n",
    "    \n",
    "    params::Parameters\n",
    "    inits::InitConds\n",
    "\n",
    "    function CamClay(params::Parameters, inits::InitConds)\n",
    "        λ   = params[\"lambda\"]\n",
    "        κ   = params[\"kappa\"]\n",
    "        ν   = params[\"poisson ratio\"] \n",
    "        Pa  = params[\"reference pressure\"]\n",
    "        eNC = params[\"reference void ratio\"]        \n",
    "        e0  = inits[\"initial void ratio\"]\n",
    "        p0  = inits[\"initial mean stress\"]\n",
    "        e1  = eNC - λ * log(p0/Pa)\n",
    "        params[\"pc0\"] = p0 * exp((e1 - e0) / (λ - κ))   \n",
    "        new(params, inits)\n",
    "    end \n",
    "end\n",
    "\n",
    "const OriginalCamClay = CamClay{Original}\n",
    "const ModifiedCamClay = CamClay{Modified}\n",
    "const VariationMCC  =  CamClay{Variation}\n",
    "\n"
   ]
  },
  {
   "cell_type": "code",
   "execution_count": null,
   "metadata": {},
   "outputs": [],
   "source": [
    "model = ModifiedCamClay( \n",
    "                            Parameters(\n",
    "                            # model parameters\n",
    "                            \"lambda\"                => 0.25,\n",
    "                            \"kappa\"                 => 0.052,   \n",
    "                            \"poisson ratio\"         => 0.3, \n",
    "                            \"reference void ratio\"  => 0.8,\n",
    "                            \"critical stress ratio\" => 0.9,  \n",
    "                            # reference pressure\n",
    "                            \"reference pressure\"   =>  100.0,),\n",
    "  \n",
    "                            InitConds(\n",
    "                            # initial condition\n",
    "                            \"initial void ratio\"    => 0.6,\n",
    "                            \"initial mean stress\"   => 100.0,\n",
    "                            ))\n",
    "\n"
   ]
  },
  {
   "cell_type": "code",
   "execution_count": null,
   "metadata": {},
   "outputs": [],
   "source": [
    "model.params"
   ]
  },
  {
   "cell_type": "code",
   "execution_count": null,
   "metadata": {},
   "outputs": [],
   "source": [
    "model.inits"
   ]
  },
  {
   "cell_type": "code",
   "execution_count": null,
   "metadata": {},
   "outputs": [],
   "source": [
    "typealias Vector{T} Array{T,1}"
   ]
  },
  {
   "cell_type": "markdown",
   "metadata": {},
   "source": [
    "# VALUE TYPE"
   ]
  },
  {
   "cell_type": "code",
   "execution_count": null,
   "metadata": {},
   "outputs": [],
   "source": [
    "function calc(model::CamClayType, ::Type{Val{:De}})\n",
    "    return ones(6,6)\n",
    "end"
   ]
  },
  {
   "cell_type": "code",
   "execution_count": null,
   "metadata": {},
   "outputs": [],
   "source": [
    "calc(model, Val{:De})"
   ]
  },
  {
   "cell_type": "markdown",
   "metadata": {},
   "source": [
    "# FUNCTION-LIKED OBJECT"
   ]
  },
  {
   "cell_type": "code",
   "execution_count": null,
   "metadata": {},
   "outputs": [],
   "source": [
    "function (s::Point2D)(::Type{Val{:x}})\n",
    "    return s.x\n",
    "end\n",
    "\n",
    "function (s::Point2D)(::Type{Val{:y}})\n",
    "    return s.y\n",
    "end"
   ]
  },
  {
   "cell_type": "code",
   "execution_count": null,
   "metadata": {},
   "outputs": [],
   "source": [
    "P(Val{:x})"
   ]
  },
  {
   "cell_type": "code",
   "execution_count": null,
   "metadata": {},
   "outputs": [],
   "source": [
    "P(Val{:y})"
   ]
  }
 ],
 "metadata": {
  "kernelspec": {
   "display_name": "Julia 0.6.2",
   "language": "julia",
   "name": "julia-0.6"
  },
  "language_info": {
   "file_extension": ".jl",
   "mimetype": "application/julia",
   "name": "julia",
   "version": "0.6.2"
  }
 },
 "nbformat": 4,
 "nbformat_minor": 2
}
