{
 "cells": [
  {
   "cell_type": "markdown",
   "metadata": {},
   "source": [
    "# EXAMPLE 1: Student Type"
   ]
  },
  {
   "cell_type": "code",
   "execution_count": 1,
   "metadata": {},
   "outputs": [
    {
     "data": {
      "text/plain": [
       "get_high_score"
      ]
     },
     "execution_count": 1,
     "metadata": {},
     "output_type": "execute_result"
    }
   ],
   "source": [
    "struct student1\n",
    "    \"\"\"Represents a student\"\"\"\n",
    "    name::String\n",
    "    age::Int64\n",
    "    score::AbstractVector{Float64}\n",
    "end\n",
    "\n",
    "\"Returns the student's score\"\n",
    "function get_score(s::student1)\n",
    "    return s.score\n",
    "end\n",
    "\n",
    "\"Returns the student's age\"\n",
    "function get_age(s::student1)\n",
    "    return s.age\n",
    "end\n",
    "\n",
    "\"Returns the student's name\"\n",
    "function get_name(s::student1)\n",
    "    return s.name\n",
    "end\n",
    "\n",
    "\"Returns the i-th score, counting from1\"\n",
    "function get_score(s::student1, i::Int64)\n",
    "    return s.score[i]\n",
    "end\n",
    "\n",
    "\"Returns the average scores\"\n",
    "function get_average(s::student1)\n",
    "    return mean(s.score)\n",
    "end\n",
    "\n",
    "\"Returns the highest socre\"\n",
    "get_high_score(s::student1) = maximum(s.score)"
   ]
  },
  {
   "cell_type": "markdown",
   "metadata": {},
   "source": [
    "Ok, let's try"
   ]
  },
  {
   "cell_type": "code",
   "execution_count": 2,
   "metadata": {},
   "outputs": [
    {
     "data": {
      "text/plain": [
       "student1(\"Vu\", 29, [7.0, 8.0, 9.0])"
      ]
     },
     "execution_count": 2,
     "metadata": {},
     "output_type": "execute_result"
    }
   ],
   "source": [
    "s = student1(\"Vu\", 29, [7.0, 8.0, 9.0])"
   ]
  },
  {
   "cell_type": "code",
   "execution_count": 3,
   "metadata": {},
   "outputs": [
    {
     "data": {
      "text/plain": [
       "3-element Array{Float64,1}:\n",
       " 7.0\n",
       " 8.0\n",
       " 9.0"
      ]
     },
     "execution_count": 3,
     "metadata": {},
     "output_type": "execute_result"
    }
   ],
   "source": [
    "get_score(s)"
   ]
  },
  {
   "cell_type": "code",
   "execution_count": 4,
   "metadata": {},
   "outputs": [
    {
     "data": {
      "text/plain": [
       "\"Vu\""
      ]
     },
     "execution_count": 4,
     "metadata": {},
     "output_type": "execute_result"
    }
   ],
   "source": [
    "get_name(s)"
   ]
  },
  {
   "cell_type": "code",
   "execution_count": 5,
   "metadata": {},
   "outputs": [
    {
     "data": {
      "text/plain": [
       "29"
      ]
     },
     "execution_count": 5,
     "metadata": {},
     "output_type": "execute_result"
    }
   ],
   "source": [
    "get_age(s)"
   ]
  },
  {
   "cell_type": "code",
   "execution_count": 6,
   "metadata": {
    "scrolled": true
   },
   "outputs": [
    {
     "data": {
      "text/plain": [
       "9.0"
      ]
     },
     "execution_count": 6,
     "metadata": {},
     "output_type": "execute_result"
    }
   ],
   "source": [
    "get_high_score(s)"
   ]
  },
  {
   "cell_type": "code",
   "execution_count": 7,
   "metadata": {},
   "outputs": [
    {
     "data": {
      "text/plain": [
       "8.0"
      ]
     },
     "execution_count": 7,
     "metadata": {},
     "output_type": "execute_result"
    }
   ],
   "source": [
    "get_average(s)"
   ]
  },
  {
   "cell_type": "code",
   "execution_count": 8,
   "metadata": {
    "scrolled": true
   },
   "outputs": [
    {
     "ename": "LoadError",
     "evalue": "\u001b[91mMethodError: no method matching getindex(::student1, ::Int64)\u001b[39m",
     "output_type": "error",
     "traceback": [
      "\u001b[91mMethodError: no method matching getindex(::student1, ::Int64)\u001b[39m",
      ""
     ]
    }
   ],
   "source": [
    "s[1]"
   ]
  },
  {
   "cell_type": "code",
   "execution_count": 9,
   "metadata": {},
   "outputs": [],
   "source": [
    "Base.getindex(s::student1, i::Int64) = s.score[i]\n",
    "Base.setindex!(s::student1, val::Float64, i::Int64) = s.score[i] = val"
   ]
  },
  {
   "cell_type": "code",
   "execution_count": 10,
   "metadata": {},
   "outputs": [
    {
     "data": {
      "text/plain": [
       "7.0"
      ]
     },
     "execution_count": 10,
     "metadata": {},
     "output_type": "execute_result"
    }
   ],
   "source": [
    "s[1]"
   ]
  },
  {
   "cell_type": "markdown",
   "metadata": {},
   "source": [
    "Mutable Type"
   ]
  },
  {
   "cell_type": "code",
   "execution_count": 11,
   "metadata": {},
   "outputs": [
    {
     "data": {
      "text/plain": [
       "get_high_score"
      ]
     },
     "execution_count": 11,
     "metadata": {},
     "output_type": "execute_result"
    }
   ],
   "source": [
    "\"\"\"\n",
    "File: Students.jl\n",
    "Resources to manage a student's name and test scores\n",
    "\"\"\"\n",
    "\n",
    "mutable struct student\n",
    "    \"\"\"Represents a student\"\"\"\n",
    "    name::String\n",
    "    age::Int64\n",
    "    score::AbstractVector{Float64}\n",
    "end\n",
    "\n",
    "\n",
    "\"Returns the student's score\"\n",
    "function get_score(s::student)\n",
    "    return s.score\n",
    "end\n",
    "\n",
    "\"Returns the student's age\"\n",
    "function get_age(s::student)\n",
    "    return s.age\n",
    "end\n",
    "\n",
    "\"Returns the student's name\"\n",
    "function getName(s::student)\n",
    "    return s.name\n",
    "end\n",
    "\n",
    "\"Change the name of the student\"\n",
    "function setName!(s::student, newName::String)\n",
    "    s.name = newName\n",
    "end \n",
    "\n",
    "\"Returns the i-th score, counting from1\"\n",
    "function get_score(s::student, i::Int64)\n",
    "    return s.score[i]\n",
    "end\n",
    "\n",
    "\"Returns the average scores\"\n",
    "function get_average(s::student)\n",
    "    return mean(s.score)\n",
    "end\n",
    "\n",
    "\"Returns the highest socre\"\n",
    "get_high_score(s::student) = maximum(s.score)\n"
   ]
  },
  {
   "cell_type": "code",
   "execution_count": 12,
   "metadata": {},
   "outputs": [
    {
     "data": {
      "text/plain": [
       "student(\"Vu\", 29, [7.0, 8.0, 9.0])"
      ]
     },
     "execution_count": 12,
     "metadata": {},
     "output_type": "execute_result"
    }
   ],
   "source": [
    "s = student(\"Vu\", 29, [7.0, 8.0, 9.0])"
   ]
  },
  {
   "cell_type": "code",
   "execution_count": 13,
   "metadata": {},
   "outputs": [
    {
     "data": {
      "text/plain": [
       "3-element Array{Float64,1}:\n",
       " 7.0\n",
       " 8.0\n",
       " 9.0"
      ]
     },
     "execution_count": 13,
     "metadata": {},
     "output_type": "execute_result"
    }
   ],
   "source": [
    "get_score(s)"
   ]
  },
  {
   "cell_type": "code",
   "execution_count": 14,
   "metadata": {},
   "outputs": [
    {
     "data": {
      "text/plain": [
       "29"
      ]
     },
     "execution_count": 14,
     "metadata": {},
     "output_type": "execute_result"
    }
   ],
   "source": [
    "get_age(s)"
   ]
  },
  {
   "cell_type": "code",
   "execution_count": 15,
   "metadata": {},
   "outputs": [
    {
     "data": {
      "text/plain": [
       "\"Vu\""
      ]
     },
     "execution_count": 15,
     "metadata": {},
     "output_type": "execute_result"
    }
   ],
   "source": [
    "getName(s)"
   ]
  },
  {
   "cell_type": "code",
   "execution_count": 16,
   "metadata": {},
   "outputs": [
    {
     "data": {
      "text/plain": [
       "\"Quang Vu\""
      ]
     },
     "execution_count": 16,
     "metadata": {},
     "output_type": "execute_result"
    }
   ],
   "source": [
    "setName!(s, \"Quang Vu\")"
   ]
  },
  {
   "cell_type": "code",
   "execution_count": 17,
   "metadata": {},
   "outputs": [
    {
     "data": {
      "text/plain": [
       "\"Quang Vu\""
      ]
     },
     "execution_count": 17,
     "metadata": {},
     "output_type": "execute_result"
    }
   ],
   "source": [
    "getName(s)"
   ]
  },
  {
   "cell_type": "code",
   "execution_count": 18,
   "metadata": {},
   "outputs": [
    {
     "data": {
      "text/plain": [
       "8.0"
      ]
     },
     "execution_count": 18,
     "metadata": {},
     "output_type": "execute_result"
    }
   ],
   "source": [
    "get_average(s)"
   ]
  },
  {
   "cell_type": "code",
   "execution_count": 19,
   "metadata": {},
   "outputs": [
    {
     "data": {
      "text/plain": [
       "9.0"
      ]
     },
     "execution_count": 19,
     "metadata": {},
     "output_type": "execute_result"
    }
   ],
   "source": [
    "get_high_score(s)"
   ]
  },
  {
   "cell_type": "code",
   "execution_count": 20,
   "metadata": {},
   "outputs": [
    {
     "data": {
      "text/plain": [
       "student(\"Quang Vu\", 29, [7.0, 8.0, 9.0])"
      ]
     },
     "execution_count": 20,
     "metadata": {},
     "output_type": "execute_result"
    }
   ],
   "source": [
    "s"
   ]
  },
  {
   "cell_type": "code",
   "execution_count": 21,
   "metadata": {},
   "outputs": [
    {
     "ename": "LoadError",
     "evalue": "\u001b[91mMethodError: no method matching getindex(::student, ::Int64)\u001b[39m",
     "output_type": "error",
     "traceback": [
      "\u001b[91mMethodError: no method matching getindex(::student, ::Int64)\u001b[39m",
      ""
     ]
    }
   ],
   "source": [
    "s[1]"
   ]
  },
  {
   "cell_type": "code",
   "execution_count": 22,
   "metadata": {},
   "outputs": [],
   "source": [
    "Base.getindex(s::student, i::Int64) = s.score[i]\n",
    "Base.setindex!(s::student, val::Float64, i::Int64) = s.score[i] = val"
   ]
  },
  {
   "cell_type": "code",
   "execution_count": 23,
   "metadata": {},
   "outputs": [
    {
     "data": {
      "text/plain": [
       "7.0"
      ]
     },
     "execution_count": 23,
     "metadata": {},
     "output_type": "execute_result"
    }
   ],
   "source": [
    "s[1]"
   ]
  },
  {
   "cell_type": "code",
   "execution_count": 24,
   "metadata": {},
   "outputs": [],
   "source": [
    "\"\"\"\n",
    "File: Students.jl\n",
    "Resources to manage a student's name and test scores\n",
    "\"\"\"\n",
    "\n",
    "mutable struct student\n",
    "    \"\"\"Represents a student\"\"\"\n",
    "    name::String\n",
    "    age::Int64\n",
    "    score::AbstractVector{Float64}\n",
    "end\n",
    "\n",
    "\n",
    "\"Returns the student's score\"\n",
    "function get_score(s::student)\n",
    "    return s.score\n",
    "end\n",
    "\n",
    "\"Returns the student's age\"\n",
    "function get_age(s::student)\n",
    "    return s.age\n",
    "end\n",
    "\n",
    "\"Returns the student's name\"\n",
    "function getName(s::student)\n",
    "    return s.name\n",
    "end\n",
    "\n",
    "\"Change the name of the student\"\n",
    "function setName!(s::student, newName::String)\n",
    "    s.name = newName\n",
    "end \n",
    "\"Returns the i-th score, counting from1\"\n",
    "function get_score(s::student, i::Int64)\n",
    "    return s.score[i]\n",
    "end\n",
    "\n",
    "\"Returns the average scores\"\n",
    "function get_average(s::student)\n",
    "    return mean(s.score)\n",
    "end\n",
    "\n",
    "\"Returns the highest socre\"\n",
    "get_high_score(s::student) = maximum(s.score)\n",
    "\n",
    "Base.getindex(s::student, i::Int64) = s.score[i]\n",
    "\n",
    "Base.setindex!(s::student, val::Float64, i::Int64) = s.score[i] = val\n"
   ]
  },
  {
   "cell_type": "markdown",
   "metadata": {},
   "source": [
    "# EXAMPLE 2: RATIONAL"
   ]
  },
  {
   "cell_type": "code",
   "execution_count": 25,
   "metadata": {},
   "outputs": [
    {
     "data": {
      "text/plain": [
       "Rational"
      ]
     },
     "execution_count": 25,
     "metadata": {},
     "output_type": "execute_result"
    }
   ],
   "source": [
    "\"\"\"Outer Constructor\"\"\"\n",
    "type Rational\n",
    "    numerator::Int64\n",
    "    denominator::Int64\n",
    "end\n",
    "\n",
    "function Rational(numerator::Int64, denominator::Int64)\n",
    "    divisor = gcd(numerator, denominator)\n",
    "    numerator /= divisor\n",
    "    denominator /= divisor\n",
    "    return Rational(numerator, denominator)\n",
    "end"
   ]
  },
  {
   "cell_type": "code",
   "execution_count": 26,
   "metadata": {},
   "outputs": [
    {
     "data": {
      "text/plain": [
       "Rational(1, 2)"
      ]
     },
     "execution_count": 26,
     "metadata": {},
     "output_type": "execute_result"
    }
   ],
   "source": [
    "a = Rational(2,4)"
   ]
  },
  {
   "cell_type": "code",
   "execution_count": 27,
   "metadata": {},
   "outputs": [
    {
     "data": {
      "text/plain": [
       "Base.show"
      ]
     },
     "execution_count": 27,
     "metadata": {},
     "output_type": "execute_result"
    }
   ],
   "source": [
    "\"Show on the screen\"\n",
    "function Base.show(io::IO, r::Rational)\n",
    "    println(io, r.numerator, \"/\", r.denominator)\n",
    "end"
   ]
  },
  {
   "cell_type": "code",
   "execution_count": 28,
   "metadata": {},
   "outputs": [
    {
     "data": {
      "text/plain": [
       "1/2\n"
      ]
     },
     "execution_count": 28,
     "metadata": {},
     "output_type": "execute_result"
    }
   ],
   "source": [
    "a = Rational(2,4)"
   ]
  },
  {
   "cell_type": "code",
   "execution_count": 29,
   "metadata": {},
   "outputs": [
    {
     "data": {
      "text/plain": [
       "Base.:/"
      ]
     },
     "execution_count": 29,
     "metadata": {},
     "output_type": "execute_result"
    }
   ],
   "source": [
    "\n",
    "import Base.+\n",
    "import Base.-\n",
    "import Base.*\n",
    "import Base./\n",
    "\n",
    "\"Add two rational number\"\n",
    "function +(a::Rational, b::Rational)\n",
    "    new_numerator = a.numerator * b.denominator + a.denominator * b.numerator\n",
    "    new_denominator = a.denominator * b.denominator\n",
    "    return Rational(new_numerator, new_denominator)\n",
    "end \n",
    "\n",
    "\n",
    "\"Minus two rational number\"\n",
    "function -(a::Rational, b::Rational)\n",
    "    new_numerator = a.numerator * b.denominator - a.denominator * b.numerator\n",
    "    new_denominator = a.denominator * b.denominator\n",
    "    return Rational(new_numerator, new_denominator)\n",
    "end \n",
    "\n",
    "\n",
    "\"Multiply two rational number\"\n",
    "function *(a::Rational, b::Rational)\n",
    "    new_numerator = a.numerator * b.numerator\n",
    "    new_denominator = a.denominator * b.denominator\n",
    "    return Rational(new_numerator, new_denominator)\n",
    "end \n",
    "\n",
    "\n",
    "\"Divide two rational number\"\n",
    "function /(a::Rational, b::Rational)\n",
    "    new_numerator = a.numerator * b.denominator \n",
    "    new_denominator = a.denominator * b.numerator\n",
    "    return Rational(new_numerator, new_denominator)\n",
    "end \n"
   ]
  },
  {
   "cell_type": "code",
   "execution_count": 30,
   "metadata": {},
   "outputs": [
    {
     "data": {
      "text/plain": [
       "1/2\n"
      ]
     },
     "execution_count": 30,
     "metadata": {},
     "output_type": "execute_result"
    }
   ],
   "source": [
    "b = Rational(3,6)"
   ]
  },
  {
   "cell_type": "code",
   "execution_count": 31,
   "metadata": {},
   "outputs": [
    {
     "data": {
      "text/plain": [
       "1/1\n"
      ]
     },
     "execution_count": 31,
     "metadata": {},
     "output_type": "execute_result"
    }
   ],
   "source": [
    "a + b"
   ]
  },
  {
   "cell_type": "code",
   "execution_count": 32,
   "metadata": {},
   "outputs": [
    {
     "data": {
      "text/plain": [
       "1/4\n"
      ]
     },
     "execution_count": 32,
     "metadata": {},
     "output_type": "execute_result"
    }
   ],
   "source": [
    "a * b\n"
   ]
  },
  {
   "cell_type": "code",
   "execution_count": 33,
   "metadata": {},
   "outputs": [
    {
     "data": {
      "text/plain": [
       "1/1\n"
      ]
     },
     "execution_count": 33,
     "metadata": {},
     "output_type": "execute_result"
    }
   ],
   "source": [
    "a / b"
   ]
  },
  {
   "cell_type": "code",
   "execution_count": 34,
   "metadata": {},
   "outputs": [
    {
     "data": {
      "text/plain": [
       "0/1\n"
      ]
     },
     "execution_count": 34,
     "metadata": {},
     "output_type": "execute_result"
    }
   ],
   "source": [
    "a - b"
   ]
  },
  {
   "cell_type": "code",
   "execution_count": 35,
   "metadata": {},
   "outputs": [
    {
     "data": {
      "text/plain": [
       "0/1\n"
      ]
     },
     "execution_count": 35,
     "metadata": {},
     "output_type": "execute_result"
    }
   ],
   "source": [
    "a-b"
   ]
  },
  {
   "cell_type": "code",
   "execution_count": 36,
   "metadata": {},
   "outputs": [
    {
     "data": {
      "text/plain": [
       "Base.show"
      ]
     },
     "execution_count": 36,
     "metadata": {},
     "output_type": "execute_result"
    }
   ],
   "source": [
    "\"Show on the screen\"\n",
    "function Base.show(io::IO, r::Rational)\n",
    "    if r.numerator == 0\n",
    "        println(io, 0)\n",
    "    elseif r.denominator == 1\n",
    "        println(io, r.numerator)\n",
    "    else     \n",
    "        println(io, r.numerator, \"/\", r.denominator)\n",
    "    end\n",
    "end"
   ]
  },
  {
   "cell_type": "code",
   "execution_count": 37,
   "metadata": {},
   "outputs": [
    {
     "data": {
      "text/plain": [
       "0\n"
      ]
     },
     "execution_count": 37,
     "metadata": {},
     "output_type": "execute_result"
    }
   ],
   "source": [
    "a - b"
   ]
  },
  {
   "cell_type": "code",
   "execution_count": 38,
   "metadata": {},
   "outputs": [
    {
     "data": {
      "text/plain": [
       "1\n"
      ]
     },
     "execution_count": 38,
     "metadata": {},
     "output_type": "execute_result"
    }
   ],
   "source": [
    "a / b"
   ]
  },
  {
   "cell_type": "code",
   "execution_count": 39,
   "metadata": {},
   "outputs": [
    {
     "data": {
      "text/plain": [
       "1/0\n"
      ]
     },
     "execution_count": 39,
     "metadata": {},
     "output_type": "execute_result"
    }
   ],
   "source": [
    "c = Rational(2, 0)"
   ]
  },
  {
   "cell_type": "code",
   "execution_count": 40,
   "metadata": {},
   "outputs": [
    {
     "data": {
      "text/plain": [
       "Rational2"
      ]
     },
     "execution_count": 40,
     "metadata": {},
     "output_type": "execute_result"
    }
   ],
   "source": [
    "\n",
    "\"\"\"Inner Constructor: Can check the condition of input parameter\"\"\"\n",
    "type Rational2 \n",
    "    numerator::Int64\n",
    "    denominator::Int64\n",
    "\n",
    "    function Rational2(numerator::Int64, denominator::Int64)\n",
    "        denominator == 0 && throw(ArgumentError(\"Invalid Rational: Denominator = 0!\"))\n",
    "        divisor = gcd(numerator, denominator)\n",
    "        numerator /= divisor\n",
    "        denominator /= divisor\n",
    "        new(numerator, denominator)\n",
    "    end\n",
    "end"
   ]
  },
  {
   "cell_type": "code",
   "execution_count": 41,
   "metadata": {},
   "outputs": [
    {
     "ename": "LoadError",
     "evalue": "\u001b[91mArgumentError: Invalid Rational: Denominator = 0!\u001b[39m",
     "output_type": "error",
     "traceback": [
      "\u001b[91mArgumentError: Invalid Rational: Denominator = 0!\u001b[39m",
      "",
      "Stacktrace:",
      " [1] \u001b[1mRational2\u001b[22m\u001b[22m\u001b[1m(\u001b[22m\u001b[22m::Int64, ::Int64\u001b[1m)\u001b[22m\u001b[22m at \u001b[1m./In[40]:8\u001b[22m\u001b[22m"
     ]
    }
   ],
   "source": [
    "d = Rational2(3, 0)"
   ]
  },
  {
   "cell_type": "markdown",
   "metadata": {},
   "source": [
    "# EXAMPLE 3"
   ]
  },
  {
   "cell_type": "code",
   "execution_count": 42,
   "metadata": {},
   "outputs": [
    {
     "data": {
      "text/plain": [
       "* (generic function with 184 methods)"
      ]
     },
     "execution_count": 42,
     "metadata": {},
     "output_type": "execute_result"
    }
   ],
   "source": [
    "# Content:\n",
    "#  1- Geometry concepts\n",
    "#  2- Code duplication\n",
    "#  3- Code reduction using type unions\n",
    "\n",
    "\n",
    "immutable Point\n",
    "    x::Float64\n",
    "    y::Float64\n",
    "end \n",
    "\n",
    "immutable Vec2D \n",
    "    x::Float64\n",
    "    y::Float64\n",
    "end \n",
    "\n",
    "immutable Direction \n",
    "    x::Float64\n",
    "    y::Float64\n",
    "end \n",
    "\n",
    "# VECTOR 2D\n",
    "norm(v::Vec2D) = hypot(v.x, v.y)\n",
    "\n",
    "function unit(v::Vec2D)\n",
    "    len = norm(v);\n",
    "    Direction(v.x/len, v.y/len)\n",
    "end \n",
    "\n",
    "\n",
    "import Base.+\n",
    "import Base.-\n",
    "import Base.*\n",
    "import Base./\n",
    "\n",
    "+(u::Point, v::Point) = Point(u.x + v.x, u.y + v.y)\n",
    "\n",
    "+(u::Vec2D, v::Vec2D) = Vec2D(u.x + v.x, u.y + v.y)\n",
    "-(u::Vec2D, v::Vec2D) = Vec2D(u.x - v.x, u.y + v.y)\n",
    "\n",
    "\n",
    "dot(u::Vec2D, v::Vec2D) = u.x*v.x + u.y*v.y\n",
    "cross(u::Vec2D, v::Vec2D) = u.x*v.y - u.y*v.x\n",
    "abs(v::Vec2D) = Vec2D(abs(v.x), abs(v.y))\n",
    "angle(v::Vec2D) = atan2(v.y, v.x)\n",
    "\n",
    "# UNIT VECTOR 2D\n",
    "norm(v::Direction) = 1\n",
    "unit(v::Direction) = v\n",
    "\n",
    "dot(u::Direction, v::Direction) = u.x*v.x + u.y*v.y\n",
    "cross(u::Direction, v::Direction) = u.x*v.y - u.y*v.x\n",
    "abs(v::Direction) = Vec2D(abs(v.x), abs(v.y))\n",
    "angle(v::Direction) = atan2(v.y, v.x)\n",
    "\n",
    "# Similarities\n",
    "ndims(v::Point)     = 1\n",
    "ndims(v::Vec2D)     = 1\n",
    "ndims(v::Direction) = 1\n",
    "\n",
    "\n",
    "\n",
    "eltype(v::Point)     = Float64\n",
    "eltype(v::Vec2D)     = Float64\n",
    "eltype(v::Direction) = Float64\n",
    "\n",
    "# How to avoid code duplication\n",
    "\n",
    "# Union Types to the Rescue!\n",
    "VecOrDir      = Union{Vec2D, Direction}\n",
    "PointVecOrDir = Union{Vec2D, Direction, Point}\n",
    "PointOrVec    = Union{Vec2D, Point}\n",
    "\n",
    "# Functions Defined Using Union Types\n",
    "dot(u::VecOrDir, v::VecOrDir) = u.x * v.x + u.y * v.y\n",
    "cross(u::VecOrDir, v::VecOrDir) = u.x * v.y - u.y * v.x\n",
    "abs(v::VecOrDir) = Vec2D(abs(v.x), abs(v.y))\n",
    "angle(v::VecOrDir) = atan2(v.y, v.x)\n",
    "size(v::PointVecOrDir) = (2,)\n",
    "ndims(v::PointVecOrDir) = 1\n",
    "eltype(v::PointVecOrDir) = Float64\n",
    "\n",
    "*(v::VecOrDir, factor::Number) = Vec2D(v.x * factor, v.y * factor)"
   ]
  },
  {
   "cell_type": "code",
   "execution_count": 43,
   "metadata": {},
   "outputs": [
    {
     "data": {
      "text/plain": [
       "Point(2.0, 4.0)"
      ]
     },
     "execution_count": 43,
     "metadata": {},
     "output_type": "execute_result"
    }
   ],
   "source": [
    "P1 = Point(2.0, 4.0)"
   ]
  },
  {
   "cell_type": "code",
   "execution_count": 44,
   "metadata": {},
   "outputs": [
    {
     "data": {
      "text/plain": [
       "Point(3.0, 4.0)"
      ]
     },
     "execution_count": 44,
     "metadata": {},
     "output_type": "execute_result"
    }
   ],
   "source": [
    "P2 = Point(3.0, 4.0)"
   ]
  },
  {
   "cell_type": "code",
   "execution_count": 45,
   "metadata": {},
   "outputs": [
    {
     "data": {
      "text/plain": [
       "Point"
      ]
     },
     "execution_count": 45,
     "metadata": {},
     "output_type": "execute_result"
    }
   ],
   "source": [
    "typeof(P1)"
   ]
  },
  {
   "cell_type": "code",
   "execution_count": 46,
   "metadata": {},
   "outputs": [
    {
     "data": {
      "text/plain": [
       "2.0"
      ]
     },
     "execution_count": 46,
     "metadata": {},
     "output_type": "execute_result"
    }
   ],
   "source": [
    "P1.x"
   ]
  },
  {
   "cell_type": "code",
   "execution_count": 47,
   "metadata": {},
   "outputs": [
    {
     "data": {
      "text/plain": [
       "Point(5.0, 8.0)"
      ]
     },
     "execution_count": 47,
     "metadata": {},
     "output_type": "execute_result"
    }
   ],
   "source": [
    "+(P1, P2)"
   ]
  },
  {
   "cell_type": "code",
   "execution_count": 48,
   "metadata": {},
   "outputs": [
    {
     "ename": "LoadError",
     "evalue": "\u001b[91mMethodError: no method matching dot(::Point, ::Point)\u001b[39m",
     "output_type": "error",
     "traceback": [
      "\u001b[91mMethodError: no method matching dot(::Point, ::Point)\u001b[39m",
      ""
     ]
    }
   ],
   "source": []
  },
  {
   "cell_type": "code",
   "execution_count": null,
   "metadata": {},
   "outputs": [],
   "source": []
  }
 ],
 "metadata": {
  "kernelspec": {
   "display_name": "Julia 0.6.2",
   "language": "julia",
   "name": "julia-0.6"
  },
  "language_info": {
   "file_extension": ".jl",
   "mimetype": "application/julia",
   "name": "julia",
   "version": "0.6.2"
  }
 },
 "nbformat": 4,
 "nbformat_minor": 2
}
